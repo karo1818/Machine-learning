{
 "cells": [
  {
   "cell_type": "markdown",
   "id": "1d3b1aa1-7bc7-46e1-ad2e-8846cb748296",
   "metadata": {},
   "source": [
    "# Creating a Model using a Dataset\n",
    "\n",
    "This Notebook uses the produced data from the Desease Propogation to generate a Linear Regression model using SciKit-Learn(sklearn).\n",
    "\n",
    "Reference: [https://scikit-learn.org/stable/tutorial/statistical_inference/supervised_learning.html](https://scikit-learn.org/stable/tutorial/statistical_inference/supervised_learning.html)\n",
    "\n",
    "## Steps to create training and test samples from a given dataset:\n",
    "1. Install the Scikit-Learn Python Library\n",
    "2. Import the dataset from CSV\n",
    "3. Create training and test samples from the datasets\n",
    "4. Perform a linear regression\n",
    "5. Output model Co-efficients for the formula\n",
    "6. Score the model's ability to describe the dataset\n",
    "\n",
    "## 1 Install the SciKit-Learn Python Library to create the model:\n",
    "**[Note: This only needs to be done once and it will require you to \"Restart the Kernel\"]**"
   ]
  },
  {
   "cell_type": "code",
   "execution_count": null,
   "id": "7bde5775-1c18-47f8-a8fa-879fc988aca3",
   "metadata": {},
   "outputs": [],
   "source": [
    "!pip install scikit-learn --user"
   ]
  },
  {
   "cell_type": "code",
   "execution_count": null,
   "id": "40f9cede-9d8e-43be-ac55-bb56a1fd83d3",
   "metadata": {},
   "outputs": [],
   "source": [
    "from sklearn import linear_model\n",
    "\n",
    "# import the dataset into a pandas DataFrame\n",
    "import pandas as pd\n",
    "import numpy as np"
   ]
  },
  {
   "cell_type": "markdown",
   "id": "898a6c5a-03c6-445f-9d45-a185aed6dca2",
   "metadata": {},
   "source": [
    "## 2. Import the dataset from CSV"
   ]
  },
  {
   "cell_type": "code",
   "execution_count": null,
   "id": "8467817a-4f3b-4edd-85f4-1307ba7c181f",
   "metadata": {},
   "outputs": [],
   "source": [
    "# This will be the name of the input file\n",
    "diseaseData = pd.read_csv(\"mycsvfile.csv\") "
   ]
  },
  {
   "cell_type": "code",
   "execution_count": null,
   "id": "9222937a-b363-476e-836f-e625600554c9",
   "metadata": {},
   "outputs": [],
   "source": [
    "# Imported Dataset View\n",
    "diseaseData.head()"
   ]
  },
  {
   "cell_type": "code",
   "execution_count": null,
   "id": "9a45d188-613c-4361-8fc2-8c4f16dd4701",
   "metadata": {},
   "outputs": [],
   "source": [
    "# Imported Dataset Statistics\n",
    "diseaseData.describe()"
   ]
  },
  {
   "cell_type": "markdown",
   "id": "84803c62-88a3-4f9f-80cb-522bc21573cf",
   "metadata": {},
   "source": [
    "## 3. Create training and test samples from the datasets"
   ]
  },
  {
   "cell_type": "code",
   "execution_count": null,
   "id": "4d8293c5-c9e3-400f-9a72-7a46d995368c",
   "metadata": {},
   "outputs": [],
   "source": [
    "# Create training and test datasets where train contains the variables and test the results\n",
    "train_percentage = .4 #train based on 80% of the dataset\n",
    "\n",
    "msk = np.random.rand(len(diseaseData)) < train_percentage\n",
    "print(msk)\n",
    "train = diseaseData[msk]\n",
    "test = diseaseData[~msk]\n",
    "\n",
    "print(\"Number of Training Samples:\",len(train))\n",
    "print(\"Number of Test Samples:\",len(test))\n",
    "\n",
    "# Create X and Y datasets for both train and test where \n",
    "# X contains the variables and Y the results\n",
    "\n",
    "#variable to check against\n",
    "#test_variable = \"max_sick\"\n",
    "test_variable = \"max_sick_mask_wearers\"\n",
    "\n",
    "\n",
    "train_X = train.drop(columns =[test_variable])\n",
    "train_Y = train[test_variable]\n",
    "test_X = test.drop(columns =[test_variable])\n",
    "test_Y = test[test_variable]\n",
    "\n"
   ]
  },
  {
   "cell_type": "markdown",
   "id": "0365a033-8771-4470-8be3-488d6bf9f344",
   "metadata": {},
   "source": [
    "## 4. Perform a linear regression"
   ]
  },
  {
   "cell_type": "code",
   "execution_count": null,
   "id": "a1947257-c88b-412d-8ea2-c69785413542",
   "metadata": {},
   "outputs": [],
   "source": [
    "regr = linear_model.LinearRegression()"
   ]
  },
  {
   "cell_type": "code",
   "execution_count": null,
   "id": "eaca92ed-8efd-4e5c-a3ed-f96653edce6b",
   "metadata": {},
   "outputs": [],
   "source": [
    "regr.fit(train_X, train_Y)"
   ]
  },
  {
   "cell_type": "markdown",
   "id": "d33ab473-b9f8-4d4c-8423-141a3a157366",
   "metadata": {},
   "source": [
    "## 5. Output model Co-efficients for the formula"
   ]
  },
  {
   "cell_type": "code",
   "execution_count": null,
   "id": "9beb69b1-92f7-4859-ba80-dfc63471d658",
   "metadata": {},
   "outputs": [],
   "source": [
    "print(regr.coef_) "
   ]
  },
  {
   "cell_type": "markdown",
   "id": "996ab18c-5f83-41c6-8b28-ba715dc07c85",
   "metadata": {},
   "source": [
    "## 6. Score the model's ability to describe the dataset"
   ]
  },
  {
   "cell_type": "code",
   "execution_count": null,
   "id": "e78e28c4-03aa-4272-ac07-613249205d07",
   "metadata": {},
   "outputs": [],
   "source": [
    "# The mean square error\n",
    "np.mean((regr.predict(test_X) - test_Y)**2)"
   ]
  },
  {
   "cell_type": "code",
   "execution_count": null,
   "id": "3f91c784-52de-496f-93ae-55a23c1ef152",
   "metadata": {},
   "outputs": [],
   "source": [
    "# Explained variance score: 1 is perfect prediction\n",
    "# and 0 means that there is no linear relationship\n",
    "# between X and y.\n",
    "\n",
    "regr.score(test_X, test_Y)"
   ]
  }
 ],
 "metadata": {
  "IMAGE_NAME": "taccsciapps/ds-nb-img:base-0.1.0",
  "UUID": "a0dcae50-73f3-11ed-a6e0-7e312379d5fa",
  "kernelspec": {
   "display_name": "Python 3 (ipykernel)",
   "language": "python",
   "name": "python3"
  },
  "language_info": {
   "codemirror_mode": {
    "name": "ipython",
    "version": 3
   },
   "file_extension": ".py",
   "mimetype": "text/x-python",
   "name": "python",
   "nbconvert_exporter": "python",
   "pygments_lexer": "ipython3",
   "version": "3.9.10"
  }
 },
 "nbformat": 4,
 "nbformat_minor": 5
}
